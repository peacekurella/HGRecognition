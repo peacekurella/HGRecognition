{
 "cells": [
  {
   "cell_type": "code",
   "execution_count": 1,
   "metadata": {},
   "outputs": [],
   "source": [
    "from collections import deque\n",
    "from imutils.video import VideoStream\n",
    "import numpy as np\n",
    "import argparse\n",
    "import cv2\n",
    "import imutils\n",
    "import time\n",
    "import math"
   ]
  },
  {
   "cell_type": "code",
   "execution_count": 2,
   "metadata": {},
   "outputs": [],
   "source": [
    "hand_cascade = cv2.CascadeClassifier('features.xml')\n",
    "feed = cv2.VideoCapture(0)\n",
    "\n",
    "pts = deque(maxlen=32)"
   ]
  },
  {
   "cell_type": "code",
   "execution_count": 3,
   "metadata": {},
   "outputs": [],
   "source": [
    "def detect_motion(pts):\n",
    "    return False"
   ]
  },
  {
   "cell_type": "code",
   "execution_count": 4,
   "metadata": {},
   "outputs": [
    {
     "name": "stdout",
     "output_type": "stream",
     "text": [
      "3\n"
     ]
    }
   ],
   "source": [
    "while True:\n",
    "    _, frame = feed.read()\n",
    "    \n",
    "    if frame is None:\n",
    "        print(\"Failure in reading video feed\")\n",
    "        break\n",
    "    \n",
    "    blur = cv2.GaussianBlur(frame,(5,5),0)\n",
    "    gray = cv2.cvtColor(blur, cv2.COLOR_BGR2GRAY)\n",
    "    hand = hand_cascade.detectMultiScale(gray, 1.3, 5)\n",
    "    mask = np.zeros(gray.shape, dtype = \"uint8\")\n",
    "    \n",
    "    for (x,y,w,h) in hand: \n",
    "        cv2.rectangle(frame,(x,y),(x+w,y+h), (122,122,0), 2)\n",
    "        pts.append(((x+w)/2, (y+h)/2))\n",
    "        cv2.rectangle(mask, (x,y),(x+w,y+h),255,-1)\n",
    "    \n",
    "    extracted_hand = cv2.bitwise_and(gray,mask)\n",
    "    extracted_hand = cv2.GaussianBlur(extracted_hand,(7,7),0)\n",
    "    _, extracted_hand = cv2.threshold(extracted_hand,222,225,cv2.THRESH_BINARY+cv2.THRESH_OTSU)\n",
    "    \n",
    "    contours, hierarchy = cv2.findContours(extracted_hand, cv2.RETR_TREE, cv2.CHAIN_APPROX_SIMPLE)\n",
    "    cv2.drawContours(frame, contours, 0, (255,255,0), 3)\n",
    "    \n",
    "    \n",
    "    if(len(pts) == 16):\n",
    "        if(detect_motion(pts)):\n",
    "            # do something\n",
    "            print(\"Motion detected\")\n",
    "        else:\n",
    "            # check for number of deformities\n",
    "            hand = max(contours, key = cv2.contourArea)\n",
    "            hull = cv2.convexHull(hand, returnPoints=False)\n",
    "            defects = cv2.convexityDefects(hand, hull)\n",
    "            \n",
    "            fingers = 0\n",
    "            \n",
    "            if defects is not None:\n",
    "                \n",
    "                for i in range(defects.shape[0]):\n",
    "                    \n",
    "                    p,q,r,s = defects[i,0]\n",
    "                    finger1 = tuple(hand[p][0])\n",
    "                    finger2 = tuple(hand[q][0])\n",
    "                    dip = tuple(hand[r][0])\n",
    "                    \n",
    "                    a = math.sqrt((finger2[0] - finger1[0])**2 + (finger2[1] - finger1[1])**2)\n",
    "                    b = math.sqrt((dip[0] - finger1[0])**2 + (dip[1] - finger1[1])**2)\n",
    "                    c = math.sqrt((finger2[0] - dip[0])**2 + (finger2[1] - dip[1])**2)\n",
    "            \n",
    "                    angle = math.acos((b**2 + c**2 - a**2)/(2*b*c)) * 57.29\n",
    "                \n",
    "                    if angle <= 90:\n",
    "                        fingers = fingers + 1\n",
    "                print(fingers)\n",
    "                cv2.putText(frame, str(fingers)+\" Fingers\", (25, 50), cv2.FONT_HERSHEY_SIMPLEX, 4, 4)\n",
    "    \n",
    "    cv2.imshow(\"frame\", frame)\n",
    "    \n",
    "    \n",
    "    key =  cv2.waitKey(30) & 0xff\n",
    "    if(key==27):\n",
    "        break\n",
    "        \n",
    "        \n",
    "cv2.destroyAllWindows()\n",
    "    "
   ]
  }
 ],
 "metadata": {
  "kernelspec": {
   "display_name": "Python 3",
   "language": "python",
   "name": "python3"
  },
  "language_info": {
   "codemirror_mode": {
    "name": "ipython",
    "version": 3
   },
   "file_extension": ".py",
   "mimetype": "text/x-python",
   "name": "python",
   "nbconvert_exporter": "python",
   "pygments_lexer": "ipython3",
   "version": "3.7.4"
  }
 },
 "nbformat": 4,
 "nbformat_minor": 2
}
